{
 "cells": [
  {
   "cell_type": "code",
   "execution_count": 2,
   "metadata": {
    "collapsed": false,
    "deletable": true,
    "editable": true
   },
   "outputs": [
    {
     "name": "stderr",
     "output_type": "stream",
     "text": [
      "/Users/mingcao/anaconda/lib/python3.6/site-packages/statsmodels/compat/pandas.py:56: FutureWarning: The pandas.core.datetools module is deprecated and will be removed in a future version. Please use the pandas.tseries module instead.\n",
      "  from pandas.core import datetools\n"
     ]
    }
   ],
   "source": [
    "import pandas as pd\n",
    "import sqlite3\n",
    "from pyspark.sql import SparkSession\n",
    "from pyspark.sql.types import *\n",
    "import pyspark.sql.functions as F\n",
    "import matplotlib.pyplot as plt\n",
    "import numpy as np\n",
    "import statsmodels.api as sm\n",
    "from sklearn.decomposition import PCA\n",
    "import os\n",
    "from sklearn import preprocessing\n",
    "import matplotlib.pyplot as plt \n",
    "from sklearn.linear_model import LogisticRegression\n",
    "from sklearn.model_selection import train_test_split\n",
    "import seaborn as sns\n",
    "from sklearn.metrics import roc_auc_score\n",
    "from sklearn.metrics import roc_curve\n",
    "from sklearn.metrics import precision_recall_fscore_support\n",
    "from sklearn import svm"
   ]
  },
  {
   "cell_type": "code",
   "execution_count": 3,
   "metadata": {
    "collapsed": true,
    "deletable": true,
    "editable": true
   },
   "outputs": [],
   "source": [
    "train_data = pd.read_csv('resampled_training.csv', sep='\\t')\n",
    "test_x = pd.read_csv('test_x.csv', sep='\\t')\n",
    "test_y = pd.read_csv('test_y.csv', sep='\\t')"
   ]
  },
  {
   "cell_type": "code",
   "execution_count": 4,
   "metadata": {
    "collapsed": false,
    "deletable": true,
    "editable": true
   },
   "outputs": [],
   "source": [
    "test_x.drop('Unnamed: 0',axis=1,inplace=True)\n",
    "test_y.drop('Unnamed: 0',axis=1,inplace=True)"
   ]
  },
  {
   "cell_type": "code",
   "execution_count": 5,
   "metadata": {
    "collapsed": false,
    "deletable": true,
    "editable": true
   },
   "outputs": [],
   "source": [
    "y_test = test_y['level_cor']"
   ]
  },
  {
   "cell_type": "code",
   "execution_count": 5,
   "metadata": {
    "collapsed": false,
    "deletable": true,
    "editable": true
   },
   "outputs": [
    {
     "data": {
      "text/plain": [
       "['Unnamed: 0',\n",
       " 'X..1.year',\n",
       " 'X0.years',\n",
       " 'X1.year',\n",
       " 'X10..years',\n",
       " 'X2.years',\n",
       " 'X3.years',\n",
       " 'X4.years',\n",
       " 'X5.years',\n",
       " 'X6.years',\n",
       " 'X7.years',\n",
       " 'X8.years',\n",
       " 'X9.years',\n",
       " 'MORTGAGE.1',\n",
       " 'RENT.1',\n",
       " 'ACTIVE',\n",
       " 'BROKEN',\n",
       " 'COMPLETE',\n",
       " 'No',\n",
       " 'AK',\n",
       " 'AL',\n",
       " 'AR',\n",
       " 'AZ',\n",
       " 'CA',\n",
       " 'CO',\n",
       " 'CT',\n",
       " 'DC',\n",
       " 'DE',\n",
       " 'FL',\n",
       " 'GA',\n",
       " 'HI',\n",
       " 'IA',\n",
       " 'ID',\n",
       " 'IL',\n",
       " 'IN',\n",
       " 'KS',\n",
       " 'KY',\n",
       " 'LA',\n",
       " 'MA',\n",
       " 'MD',\n",
       " 'ME',\n",
       " 'MI',\n",
       " 'MN',\n",
       " 'MO',\n",
       " 'MS',\n",
       " 'MT',\n",
       " 'NC',\n",
       " 'ND',\n",
       " 'NE',\n",
       " 'NH',\n",
       " 'NJ',\n",
       " 'NM',\n",
       " 'NV',\n",
       " 'NY',\n",
       " 'OH',\n",
       " 'OK',\n",
       " 'OR',\n",
       " 'PA',\n",
       " 'RI',\n",
       " 'SC',\n",
       " 'SD',\n",
       " 'TN',\n",
       " 'TX',\n",
       " 'UT',\n",
       " 'VA',\n",
       " 'VT',\n",
       " 'WA',\n",
       " 'WI',\n",
       " 'WV',\n",
       " 'WY',\n",
       " 'pc_x_1',\n",
       " 'pc_x_2',\n",
       " 'pc_x_3',\n",
       " 'pc_x_4',\n",
       " 'pc_x_5',\n",
       " 'pc_x_6',\n",
       " 'pc_x_7',\n",
       " 'pc_x_8',\n",
       " 'pc_x_9',\n",
       " 'pc_x_10',\n",
       " 'pc_x_11',\n",
       " 'pc_x_12',\n",
       " 'pc_x_13',\n",
       " 'pc_x_14',\n",
       " 'pc_x_15',\n",
       " 'pc_x_16',\n",
       " 'pc_x_17',\n",
       " 'pc_x_18',\n",
       " 'pc_x_19',\n",
       " 'pc_x_20',\n",
       " 'pc_x_21',\n",
       " 'pc_x_22',\n",
       " 'pc_x_23',\n",
       " 'pc_x_24',\n",
       " 'pc_x_25',\n",
       " 'pc_x_26',\n",
       " 'pc_x_27',\n",
       " 'pc_x_28',\n",
       " 'pc_x_29',\n",
       " 'pc_x_30',\n",
       " 'pc_x_31',\n",
       " 'pc_x_32',\n",
       " 'pc_x_33',\n",
       " 'pc_x_34',\n",
       " 'pc_x_35',\n",
       " 'pc_x_36',\n",
       " 'pc_x_37',\n",
       " 'y_class']"
      ]
     },
     "execution_count": 5,
     "metadata": {},
     "output_type": "execute_result"
    }
   ],
   "source": [
    "train_data.columns.tolist()"
   ]
  },
  {
   "cell_type": "code",
   "execution_count": 6,
   "metadata": {
    "collapsed": true,
    "deletable": true,
    "editable": true
   },
   "outputs": [],
   "source": [
    "x_cols = ['X..1.year',\n",
    " 'X0.years',\n",
    " 'X1.year',\n",
    " 'X10..years',\n",
    " 'X2.years',\n",
    " 'X3.years',\n",
    " 'X4.years',\n",
    " 'X5.years',\n",
    " 'X6.years',\n",
    " 'X7.years',\n",
    " 'X8.years',\n",
    " 'X9.years',\n",
    " 'MORTGAGE.1',\n",
    " 'RENT.1',\n",
    " 'ACTIVE',\n",
    " 'BROKEN',\n",
    " 'COMPLETE',\n",
    " 'No',\n",
    " 'AK',\n",
    " 'AL',\n",
    " 'AR',\n",
    " 'AZ',\n",
    " 'CA',\n",
    " 'CO',\n",
    " 'CT',\n",
    " 'DC',\n",
    " 'DE',\n",
    " 'FL',\n",
    " 'GA',\n",
    " 'HI',\n",
    " 'IA',\n",
    " 'ID',\n",
    " 'IL',\n",
    " 'IN',\n",
    " 'KS',\n",
    " 'KY',\n",
    " 'LA',\n",
    " 'MA',\n",
    " 'MD',\n",
    " 'ME',\n",
    " 'MI',\n",
    " 'MN',\n",
    " 'MO',\n",
    " 'MS',\n",
    " 'MT',\n",
    " 'NC',\n",
    " 'ND',\n",
    " 'NE',\n",
    " 'NH',\n",
    " 'NJ',\n",
    " 'NM',\n",
    " 'NV',\n",
    " 'NY',\n",
    " 'OH',\n",
    " 'OK',\n",
    " 'OR',\n",
    " 'PA',\n",
    " 'RI',\n",
    " 'SC',\n",
    " 'SD',\n",
    " 'TN',\n",
    " 'TX',\n",
    " 'UT',\n",
    " 'VA',\n",
    " 'VT',\n",
    " 'WA',\n",
    " 'WI',\n",
    " 'WV',\n",
    " 'WY',\n",
    " 'pc_x_1',\n",
    " 'pc_x_2',\n",
    " 'pc_x_3',\n",
    " 'pc_x_4',\n",
    " 'pc_x_5',\n",
    " 'pc_x_6',\n",
    " 'pc_x_7',\n",
    " 'pc_x_8',\n",
    " 'pc_x_9',\n",
    " 'pc_x_10',\n",
    " 'pc_x_11',\n",
    " 'pc_x_12',\n",
    " 'pc_x_13',\n",
    " 'pc_x_14',\n",
    " 'pc_x_15',\n",
    " 'pc_x_16',\n",
    " 'pc_x_17',\n",
    " 'pc_x_18',\n",
    " 'pc_x_19',\n",
    " 'pc_x_20',\n",
    " 'pc_x_21',\n",
    " 'pc_x_22',\n",
    " 'pc_x_23',\n",
    " 'pc_x_24',\n",
    " 'pc_x_25',\n",
    " 'pc_x_26',\n",
    " 'pc_x_27',\n",
    " 'pc_x_28',\n",
    " 'pc_x_29',\n",
    " 'pc_x_30',\n",
    " 'pc_x_31',\n",
    " 'pc_x_32',\n",
    " 'pc_x_33',\n",
    " 'pc_x_34',\n",
    " 'pc_x_35',\n",
    " 'pc_x_36',\n",
    " 'pc_x_37']"
   ]
  },
  {
   "cell_type": "code",
   "execution_count": 7,
   "metadata": {
    "collapsed": true,
    "deletable": true,
    "editable": true
   },
   "outputs": [],
   "source": [
    "X_train = train_data[x_cols]\n",
    "y_train = train_data['y_class']"
   ]
  },
  {
   "cell_type": "code",
   "execution_count": 8,
   "metadata": {
    "collapsed": false,
    "deletable": true,
    "editable": true
   },
   "outputs": [
    {
     "data": {
      "text/html": [
       "<div>\n",
       "<style>\n",
       "    .dataframe thead tr:only-child th {\n",
       "        text-align: right;\n",
       "    }\n",
       "\n",
       "    .dataframe thead th {\n",
       "        text-align: left;\n",
       "    }\n",
       "\n",
       "    .dataframe tbody tr th {\n",
       "        vertical-align: top;\n",
       "    }\n",
       "</style>\n",
       "<table border=\"1\" class=\"dataframe\">\n",
       "  <thead>\n",
       "    <tr style=\"text-align: right;\">\n",
       "      <th></th>\n",
       "      <th>X..1.year</th>\n",
       "      <th>X0.years</th>\n",
       "      <th>X1.year</th>\n",
       "      <th>X10..years</th>\n",
       "      <th>X2.years</th>\n",
       "      <th>X3.years</th>\n",
       "      <th>X4.years</th>\n",
       "      <th>X5.years</th>\n",
       "      <th>X6.years</th>\n",
       "      <th>X7.years</th>\n",
       "      <th>...</th>\n",
       "      <th>pc_x_28</th>\n",
       "      <th>pc_x_29</th>\n",
       "      <th>pc_x_30</th>\n",
       "      <th>pc_x_31</th>\n",
       "      <th>pc_x_32</th>\n",
       "      <th>pc_x_33</th>\n",
       "      <th>pc_x_34</th>\n",
       "      <th>pc_x_35</th>\n",
       "      <th>pc_x_36</th>\n",
       "      <th>pc_x_37</th>\n",
       "    </tr>\n",
       "  </thead>\n",
       "  <tbody>\n",
       "    <tr>\n",
       "      <th>0</th>\n",
       "      <td>0.0</td>\n",
       "      <td>0.0</td>\n",
       "      <td>0.0</td>\n",
       "      <td>0.0</td>\n",
       "      <td>0.0</td>\n",
       "      <td>1.0</td>\n",
       "      <td>0.0</td>\n",
       "      <td>0.0</td>\n",
       "      <td>0.0</td>\n",
       "      <td>0.0</td>\n",
       "      <td>...</td>\n",
       "      <td>0.050789</td>\n",
       "      <td>-0.271259</td>\n",
       "      <td>-0.034634</td>\n",
       "      <td>-0.161174</td>\n",
       "      <td>0.212710</td>\n",
       "      <td>0.045789</td>\n",
       "      <td>0.124396</td>\n",
       "      <td>0.297331</td>\n",
       "      <td>0.341977</td>\n",
       "      <td>-0.055169</td>\n",
       "    </tr>\n",
       "    <tr>\n",
       "      <th>1</th>\n",
       "      <td>0.0</td>\n",
       "      <td>0.0</td>\n",
       "      <td>1.0</td>\n",
       "      <td>0.0</td>\n",
       "      <td>0.0</td>\n",
       "      <td>0.0</td>\n",
       "      <td>0.0</td>\n",
       "      <td>0.0</td>\n",
       "      <td>0.0</td>\n",
       "      <td>0.0</td>\n",
       "      <td>...</td>\n",
       "      <td>0.315749</td>\n",
       "      <td>-0.483586</td>\n",
       "      <td>-0.151907</td>\n",
       "      <td>-0.500346</td>\n",
       "      <td>-0.185445</td>\n",
       "      <td>-0.677531</td>\n",
       "      <td>-0.631550</td>\n",
       "      <td>0.035970</td>\n",
       "      <td>0.273273</td>\n",
       "      <td>0.393640</td>\n",
       "    </tr>\n",
       "    <tr>\n",
       "      <th>2</th>\n",
       "      <td>0.0</td>\n",
       "      <td>0.0</td>\n",
       "      <td>0.0</td>\n",
       "      <td>0.0</td>\n",
       "      <td>1.0</td>\n",
       "      <td>0.0</td>\n",
       "      <td>0.0</td>\n",
       "      <td>0.0</td>\n",
       "      <td>0.0</td>\n",
       "      <td>0.0</td>\n",
       "      <td>...</td>\n",
       "      <td>0.392776</td>\n",
       "      <td>0.529390</td>\n",
       "      <td>0.041816</td>\n",
       "      <td>1.151770</td>\n",
       "      <td>-0.327122</td>\n",
       "      <td>-0.280328</td>\n",
       "      <td>0.094972</td>\n",
       "      <td>0.630165</td>\n",
       "      <td>0.171936</td>\n",
       "      <td>0.331221</td>\n",
       "    </tr>\n",
       "    <tr>\n",
       "      <th>3</th>\n",
       "      <td>0.0</td>\n",
       "      <td>0.0</td>\n",
       "      <td>0.0</td>\n",
       "      <td>0.0</td>\n",
       "      <td>0.0</td>\n",
       "      <td>0.0</td>\n",
       "      <td>1.0</td>\n",
       "      <td>0.0</td>\n",
       "      <td>0.0</td>\n",
       "      <td>0.0</td>\n",
       "      <td>...</td>\n",
       "      <td>-0.145160</td>\n",
       "      <td>-0.521151</td>\n",
       "      <td>-0.072225</td>\n",
       "      <td>-0.823366</td>\n",
       "      <td>-0.448846</td>\n",
       "      <td>-0.039712</td>\n",
       "      <td>-0.269536</td>\n",
       "      <td>-0.415290</td>\n",
       "      <td>0.613070</td>\n",
       "      <td>0.131326</td>\n",
       "    </tr>\n",
       "    <tr>\n",
       "      <th>4</th>\n",
       "      <td>0.0</td>\n",
       "      <td>0.0</td>\n",
       "      <td>0.0</td>\n",
       "      <td>0.0</td>\n",
       "      <td>0.0</td>\n",
       "      <td>0.0</td>\n",
       "      <td>0.0</td>\n",
       "      <td>1.0</td>\n",
       "      <td>0.0</td>\n",
       "      <td>0.0</td>\n",
       "      <td>...</td>\n",
       "      <td>-1.013234</td>\n",
       "      <td>0.742557</td>\n",
       "      <td>0.107804</td>\n",
       "      <td>0.345109</td>\n",
       "      <td>1.494548</td>\n",
       "      <td>-0.652461</td>\n",
       "      <td>0.129092</td>\n",
       "      <td>0.963577</td>\n",
       "      <td>0.989961</td>\n",
       "      <td>0.114925</td>\n",
       "    </tr>\n",
       "  </tbody>\n",
       "</table>\n",
       "<p>5 rows × 106 columns</p>\n",
       "</div>"
      ],
      "text/plain": [
       "   X..1.year  X0.years  X1.year  X10..years  X2.years  X3.years  X4.years  \\\n",
       "0        0.0       0.0      0.0         0.0       0.0       1.0       0.0   \n",
       "1        0.0       0.0      1.0         0.0       0.0       0.0       0.0   \n",
       "2        0.0       0.0      0.0         0.0       1.0       0.0       0.0   \n",
       "3        0.0       0.0      0.0         0.0       0.0       0.0       1.0   \n",
       "4        0.0       0.0      0.0         0.0       0.0       0.0       0.0   \n",
       "\n",
       "   X5.years  X6.years  X7.years    ...      pc_x_28   pc_x_29   pc_x_30  \\\n",
       "0       0.0       0.0       0.0    ...     0.050789 -0.271259 -0.034634   \n",
       "1       0.0       0.0       0.0    ...     0.315749 -0.483586 -0.151907   \n",
       "2       0.0       0.0       0.0    ...     0.392776  0.529390  0.041816   \n",
       "3       0.0       0.0       0.0    ...    -0.145160 -0.521151 -0.072225   \n",
       "4       1.0       0.0       0.0    ...    -1.013234  0.742557  0.107804   \n",
       "\n",
       "    pc_x_31   pc_x_32   pc_x_33   pc_x_34   pc_x_35   pc_x_36   pc_x_37  \n",
       "0 -0.161174  0.212710  0.045789  0.124396  0.297331  0.341977 -0.055169  \n",
       "1 -0.500346 -0.185445 -0.677531 -0.631550  0.035970  0.273273  0.393640  \n",
       "2  1.151770 -0.327122 -0.280328  0.094972  0.630165  0.171936  0.331221  \n",
       "3 -0.823366 -0.448846 -0.039712 -0.269536 -0.415290  0.613070  0.131326  \n",
       "4  0.345109  1.494548 -0.652461  0.129092  0.963577  0.989961  0.114925  \n",
       "\n",
       "[5 rows x 106 columns]"
      ]
     },
     "execution_count": 8,
     "metadata": {},
     "output_type": "execute_result"
    }
   ],
   "source": [
    "X_train.head()"
   ]
  },
  {
   "cell_type": "code",
   "execution_count": 9,
   "metadata": {
    "collapsed": false,
    "deletable": true,
    "editable": true
   },
   "outputs": [],
   "source": [
    "X_train_scaled = pd.DataFrame(preprocessing.StandardScaler().fit(X_train).transform(X_train),\n",
    "                             columns=x_cols)"
   ]
  },
  {
   "cell_type": "code",
   "execution_count": 10,
   "metadata": {
    "collapsed": false,
    "deletable": true,
    "editable": true
   },
   "outputs": [
    {
     "data": {
      "text/html": [
       "<div>\n",
       "<style>\n",
       "    .dataframe thead tr:only-child th {\n",
       "        text-align: right;\n",
       "    }\n",
       "\n",
       "    .dataframe thead th {\n",
       "        text-align: left;\n",
       "    }\n",
       "\n",
       "    .dataframe tbody tr th {\n",
       "        vertical-align: top;\n",
       "    }\n",
       "</style>\n",
       "<table border=\"1\" class=\"dataframe\">\n",
       "  <thead>\n",
       "    <tr style=\"text-align: right;\">\n",
       "      <th></th>\n",
       "      <th>X..1.year</th>\n",
       "      <th>X0.years</th>\n",
       "      <th>X1.year</th>\n",
       "      <th>X10..years</th>\n",
       "      <th>X2.years</th>\n",
       "      <th>X3.years</th>\n",
       "      <th>X4.years</th>\n",
       "      <th>X5.years</th>\n",
       "      <th>X6.years</th>\n",
       "      <th>X7.years</th>\n",
       "      <th>...</th>\n",
       "      <th>pc_x_28</th>\n",
       "      <th>pc_x_29</th>\n",
       "      <th>pc_x_30</th>\n",
       "      <th>pc_x_31</th>\n",
       "      <th>pc_x_32</th>\n",
       "      <th>pc_x_33</th>\n",
       "      <th>pc_x_34</th>\n",
       "      <th>pc_x_35</th>\n",
       "      <th>pc_x_36</th>\n",
       "      <th>pc_x_37</th>\n",
       "    </tr>\n",
       "  </thead>\n",
       "  <tbody>\n",
       "    <tr>\n",
       "      <th>0</th>\n",
       "      <td>-0.264115</td>\n",
       "      <td>-0.246882</td>\n",
       "      <td>-0.238206</td>\n",
       "      <td>-0.64392</td>\n",
       "      <td>-0.279332</td>\n",
       "      <td>3.840565</td>\n",
       "      <td>-0.221891</td>\n",
       "      <td>-0.224074</td>\n",
       "      <td>-0.184335</td>\n",
       "      <td>-0.165416</td>\n",
       "      <td>...</td>\n",
       "      <td>0.070776</td>\n",
       "      <td>-0.328861</td>\n",
       "      <td>-0.045426</td>\n",
       "      <td>-0.202683</td>\n",
       "      <td>0.288362</td>\n",
       "      <td>0.062679</td>\n",
       "      <td>0.171166</td>\n",
       "      <td>0.458669</td>\n",
       "      <td>0.528036</td>\n",
       "      <td>-0.077890</td>\n",
       "    </tr>\n",
       "    <tr>\n",
       "      <th>1</th>\n",
       "      <td>-0.264115</td>\n",
       "      <td>-0.246882</td>\n",
       "      <td>4.198050</td>\n",
       "      <td>-0.64392</td>\n",
       "      <td>-0.279332</td>\n",
       "      <td>-0.260378</td>\n",
       "      <td>-0.221891</td>\n",
       "      <td>-0.224074</td>\n",
       "      <td>-0.184335</td>\n",
       "      <td>-0.165416</td>\n",
       "      <td>...</td>\n",
       "      <td>0.412325</td>\n",
       "      <td>-0.597735</td>\n",
       "      <td>-0.206357</td>\n",
       "      <td>-0.656185</td>\n",
       "      <td>-0.234829</td>\n",
       "      <td>-0.932502</td>\n",
       "      <td>-0.899674</td>\n",
       "      <td>0.065034</td>\n",
       "      <td>0.422712</td>\n",
       "      <td>0.660446</td>\n",
       "    </tr>\n",
       "    <tr>\n",
       "      <th>2</th>\n",
       "      <td>-0.264115</td>\n",
       "      <td>-0.246882</td>\n",
       "      <td>-0.238206</td>\n",
       "      <td>-0.64392</td>\n",
       "      <td>3.579976</td>\n",
       "      <td>-0.260378</td>\n",
       "      <td>-0.221891</td>\n",
       "      <td>-0.224074</td>\n",
       "      <td>-0.184335</td>\n",
       "      <td>-0.165416</td>\n",
       "      <td>...</td>\n",
       "      <td>0.511616</td>\n",
       "      <td>0.685016</td>\n",
       "      <td>0.059484</td>\n",
       "      <td>1.552833</td>\n",
       "      <td>-0.420996</td>\n",
       "      <td>-0.386010</td>\n",
       "      <td>0.129484</td>\n",
       "      <td>0.959951</td>\n",
       "      <td>0.267362</td>\n",
       "      <td>0.557762</td>\n",
       "    </tr>\n",
       "    <tr>\n",
       "      <th>3</th>\n",
       "      <td>-0.264115</td>\n",
       "      <td>-0.246882</td>\n",
       "      <td>-0.238206</td>\n",
       "      <td>-0.64392</td>\n",
       "      <td>-0.279332</td>\n",
       "      <td>-0.260378</td>\n",
       "      <td>4.506714</td>\n",
       "      <td>-0.224074</td>\n",
       "      <td>-0.184335</td>\n",
       "      <td>-0.165416</td>\n",
       "      <td>...</td>\n",
       "      <td>-0.181813</td>\n",
       "      <td>-0.645305</td>\n",
       "      <td>-0.097012</td>\n",
       "      <td>-1.088091</td>\n",
       "      <td>-0.580946</td>\n",
       "      <td>-0.054958</td>\n",
       "      <td>-0.386861</td>\n",
       "      <td>-0.614608</td>\n",
       "      <td>0.943625</td>\n",
       "      <td>0.228914</td>\n",
       "    </tr>\n",
       "    <tr>\n",
       "      <th>4</th>\n",
       "      <td>-0.264115</td>\n",
       "      <td>-0.246882</td>\n",
       "      <td>-0.238206</td>\n",
       "      <td>-0.64392</td>\n",
       "      <td>-0.279332</td>\n",
       "      <td>-0.260378</td>\n",
       "      <td>-0.221891</td>\n",
       "      <td>4.462815</td>\n",
       "      <td>-0.184335</td>\n",
       "      <td>-0.165416</td>\n",
       "      <td>...</td>\n",
       "      <td>-1.300810</td>\n",
       "      <td>0.954954</td>\n",
       "      <td>0.150038</td>\n",
       "      <td>0.474260</td>\n",
       "      <td>1.972741</td>\n",
       "      <td>-0.898009</td>\n",
       "      <td>0.177818</td>\n",
       "      <td>1.462102</td>\n",
       "      <td>1.521403</td>\n",
       "      <td>0.201933</td>\n",
       "    </tr>\n",
       "  </tbody>\n",
       "</table>\n",
       "<p>5 rows × 106 columns</p>\n",
       "</div>"
      ],
      "text/plain": [
       "   X..1.year  X0.years   X1.year  X10..years  X2.years  X3.years  X4.years  \\\n",
       "0  -0.264115 -0.246882 -0.238206    -0.64392 -0.279332  3.840565 -0.221891   \n",
       "1  -0.264115 -0.246882  4.198050    -0.64392 -0.279332 -0.260378 -0.221891   \n",
       "2  -0.264115 -0.246882 -0.238206    -0.64392  3.579976 -0.260378 -0.221891   \n",
       "3  -0.264115 -0.246882 -0.238206    -0.64392 -0.279332 -0.260378  4.506714   \n",
       "4  -0.264115 -0.246882 -0.238206    -0.64392 -0.279332 -0.260378 -0.221891   \n",
       "\n",
       "   X5.years  X6.years  X7.years    ...      pc_x_28   pc_x_29   pc_x_30  \\\n",
       "0 -0.224074 -0.184335 -0.165416    ...     0.070776 -0.328861 -0.045426   \n",
       "1 -0.224074 -0.184335 -0.165416    ...     0.412325 -0.597735 -0.206357   \n",
       "2 -0.224074 -0.184335 -0.165416    ...     0.511616  0.685016  0.059484   \n",
       "3 -0.224074 -0.184335 -0.165416    ...    -0.181813 -0.645305 -0.097012   \n",
       "4  4.462815 -0.184335 -0.165416    ...    -1.300810  0.954954  0.150038   \n",
       "\n",
       "    pc_x_31   pc_x_32   pc_x_33   pc_x_34   pc_x_35   pc_x_36   pc_x_37  \n",
       "0 -0.202683  0.288362  0.062679  0.171166  0.458669  0.528036 -0.077890  \n",
       "1 -0.656185 -0.234829 -0.932502 -0.899674  0.065034  0.422712  0.660446  \n",
       "2  1.552833 -0.420996 -0.386010  0.129484  0.959951  0.267362  0.557762  \n",
       "3 -1.088091 -0.580946 -0.054958 -0.386861 -0.614608  0.943625  0.228914  \n",
       "4  0.474260  1.972741 -0.898009  0.177818  1.462102  1.521403  0.201933  \n",
       "\n",
       "[5 rows x 106 columns]"
      ]
     },
     "execution_count": 10,
     "metadata": {},
     "output_type": "execute_result"
    }
   ],
   "source": [
    "X_train_scaled.head()"
   ]
  },
  {
   "cell_type": "code",
   "execution_count": 11,
   "metadata": {
    "collapsed": false,
    "deletable": true,
    "editable": true
   },
   "outputs": [],
   "source": [
    "# reset classes merging class 3 and 4, and shift class 5 to class 4\n",
    "y_trainc = y_train.copy()\n",
    "for i in range(len(y_trainc)):\n",
    "    if y_trainc[i] == 4:\n",
    "        y_trainc[i] = 3\n",
    "    if y_trainc[i] == 5:\n",
    "        y_trainc[i] = 4"
   ]
  },
  {
   "cell_type": "code",
   "execution_count": null,
   "metadata": {
    "collapsed": true,
    "deletable": true,
    "editable": true
   },
   "outputs": [],
   "source": [
    "# reset classes merging class 3 and 4, and shift class 5 to class 4\n",
    "y_testc = y_test.copy()\n",
    "for i in range(len(y_testc)):\n",
    "    if y_testc[i] == 4:\n",
    "        y_testc[i] = 3\n",
    "    if y_testc[i] == 5:\n",
    "        y_testc[i] = 4"
   ]
  },
  {
   "cell_type": "code",
   "execution_count": null,
   "metadata": {
    "collapsed": false,
    "deletable": true,
    "editable": true
   },
   "outputs": [],
   "source": [
    "# # cacheing\n",
    "# X_train.cache()\n",
    "# # test_x.cache()\n",
    "# # y_testc.cache()\n",
    "# # y_trainc.cache()"
   ]
  },
  {
   "cell_type": "code",
   "execution_count": 23,
   "metadata": {
    "collapsed": false,
    "deletable": true,
    "editable": true
   },
   "outputs": [
    {
     "name": "stderr",
     "output_type": "stream",
     "text": [
      "/Users/mingcao/anaconda/lib/python3.6/site-packages/sklearn/linear_model/sag.py:326: ConvergenceWarning: The max_iter was reached which means the coef_ did not converge\n",
      "  \"the coef_ did not converge\", ConvergenceWarning)\n"
     ]
    }
   ],
   "source": [
    "# basic logistic regression model\n",
    "logreg = LogisticRegression(solver = 'saga', multi_class='multinomial', max_iter = 1000 ).fit(X_train, y_trainc)"
   ]
  },
  {
   "cell_type": "code",
   "execution_count": 24,
   "metadata": {
    "collapsed": false,
    "deletable": true,
    "editable": true
   },
   "outputs": [
    {
     "name": "stdout",
     "output_type": "stream",
     "text": [
      "Accuracy of logistic regression classifier on test set: 0.97\n"
     ]
    }
   ],
   "source": [
    "y_pred = logreg.predict(test_x)\n",
    "print('Accuracy of logistic regression classifier on test set: {:.2f}'.format(logreg.score(test_x, y_testc)))"
   ]
  },
  {
   "cell_type": "code",
   "execution_count": 25,
   "metadata": {
    "collapsed": false,
    "deletable": true,
    "editable": true
   },
   "outputs": [
    {
     "data": {
      "text/plain": [
       "(array([0.98623591, 0.99622882, 0.65916685, 0.74898035]),\n",
       " array([0.99010102, 0.99783594, 0.66256158, 0.70914516]),\n",
       " array([0.98816468, 0.99703174, 0.66085985, 0.72851862]),\n",
       " array([ 29599, 101661,   4466,   5697]))"
      ]
     },
     "execution_count": 25,
     "metadata": {},
     "output_type": "execute_result"
    }
   ],
   "source": [
    "precision_recall_fscore_support(y_testc, y_pred)\n"
   ]
  },
  {
   "cell_type": "code",
   "execution_count": 26,
   "metadata": {
    "collapsed": false,
    "deletable": true,
    "editable": true
   },
   "outputs": [
    {
     "data": {
      "text/html": [
       "<div>\n",
       "<style>\n",
       "    .dataframe thead tr:only-child th {\n",
       "        text-align: right;\n",
       "    }\n",
       "\n",
       "    .dataframe thead th {\n",
       "        text-align: left;\n",
       "    }\n",
       "\n",
       "    .dataframe tbody tr th {\n",
       "        vertical-align: top;\n",
       "    }\n",
       "</style>\n",
       "<table border=\"1\" class=\"dataframe\">\n",
       "  <thead>\n",
       "    <tr style=\"text-align: right;\">\n",
       "      <th></th>\n",
       "      <th>X..1.year</th>\n",
       "      <th>X0.years</th>\n",
       "      <th>X1.year</th>\n",
       "      <th>X10..years</th>\n",
       "      <th>X2.years</th>\n",
       "      <th>X3.years</th>\n",
       "      <th>X4.years</th>\n",
       "      <th>X5.years</th>\n",
       "      <th>X6.years</th>\n",
       "      <th>X7.years</th>\n",
       "      <th>...</th>\n",
       "      <th>pc_x_28</th>\n",
       "      <th>pc_x_29</th>\n",
       "      <th>pc_x_30</th>\n",
       "      <th>pc_x_31</th>\n",
       "      <th>pc_x_32</th>\n",
       "      <th>pc_x_33</th>\n",
       "      <th>pc_x_34</th>\n",
       "      <th>pc_x_35</th>\n",
       "      <th>pc_x_36</th>\n",
       "      <th>pc_x_37</th>\n",
       "    </tr>\n",
       "  </thead>\n",
       "  <tbody>\n",
       "    <tr>\n",
       "      <th>0</th>\n",
       "      <td>0.749112</td>\n",
       "      <td>1.357469</td>\n",
       "      <td>0.724833</td>\n",
       "      <td>0.658781</td>\n",
       "      <td>0.729314</td>\n",
       "      <td>0.784794</td>\n",
       "      <td>0.680845</td>\n",
       "      <td>0.676110</td>\n",
       "      <td>0.562808</td>\n",
       "      <td>0.551673</td>\n",
       "      <td>...</td>\n",
       "      <td>-0.042882</td>\n",
       "      <td>0.129459</td>\n",
       "      <td>-0.039552</td>\n",
       "      <td>0.157678</td>\n",
       "      <td>0.440570</td>\n",
       "      <td>-0.005026</td>\n",
       "      <td>-0.332170</td>\n",
       "      <td>-0.010597</td>\n",
       "      <td>-0.057949</td>\n",
       "      <td>0.164371</td>\n",
       "    </tr>\n",
       "    <tr>\n",
       "      <th>1</th>\n",
       "      <td>0.501202</td>\n",
       "      <td>-0.043874</td>\n",
       "      <td>0.544941</td>\n",
       "      <td>0.418886</td>\n",
       "      <td>0.591251</td>\n",
       "      <td>0.562336</td>\n",
       "      <td>0.531292</td>\n",
       "      <td>0.505360</td>\n",
       "      <td>0.428898</td>\n",
       "      <td>0.300153</td>\n",
       "      <td>...</td>\n",
       "      <td>0.067125</td>\n",
       "      <td>0.473298</td>\n",
       "      <td>-0.034696</td>\n",
       "      <td>-0.685047</td>\n",
       "      <td>-0.924553</td>\n",
       "      <td>0.146547</td>\n",
       "      <td>0.435691</td>\n",
       "      <td>0.167585</td>\n",
       "      <td>0.037649</td>\n",
       "      <td>0.023720</td>\n",
       "    </tr>\n",
       "    <tr>\n",
       "      <th>2</th>\n",
       "      <td>-0.884489</td>\n",
       "      <td>-1.176977</td>\n",
       "      <td>-0.819953</td>\n",
       "      <td>-0.607735</td>\n",
       "      <td>-0.960172</td>\n",
       "      <td>-0.918115</td>\n",
       "      <td>-0.803922</td>\n",
       "      <td>-0.806388</td>\n",
       "      <td>-0.756780</td>\n",
       "      <td>-0.649008</td>\n",
       "      <td>...</td>\n",
       "      <td>0.019299</td>\n",
       "      <td>-0.371420</td>\n",
       "      <td>0.201225</td>\n",
       "      <td>0.300085</td>\n",
       "      <td>0.400710</td>\n",
       "      <td>-0.113993</td>\n",
       "      <td>-0.172495</td>\n",
       "      <td>-0.103675</td>\n",
       "      <td>-0.107810</td>\n",
       "      <td>-0.262234</td>\n",
       "    </tr>\n",
       "    <tr>\n",
       "      <th>3</th>\n",
       "      <td>-0.365825</td>\n",
       "      <td>-0.136618</td>\n",
       "      <td>-0.449821</td>\n",
       "      <td>-0.469932</td>\n",
       "      <td>-0.360393</td>\n",
       "      <td>-0.429015</td>\n",
       "      <td>-0.408215</td>\n",
       "      <td>-0.375082</td>\n",
       "      <td>-0.234925</td>\n",
       "      <td>-0.202817</td>\n",
       "      <td>...</td>\n",
       "      <td>-0.043541</td>\n",
       "      <td>-0.231337</td>\n",
       "      <td>-0.126977</td>\n",
       "      <td>0.227283</td>\n",
       "      <td>0.083273</td>\n",
       "      <td>-0.027529</td>\n",
       "      <td>0.068974</td>\n",
       "      <td>-0.053313</td>\n",
       "      <td>0.128110</td>\n",
       "      <td>0.074143</td>\n",
       "    </tr>\n",
       "  </tbody>\n",
       "</table>\n",
       "<p>4 rows × 106 columns</p>\n",
       "</div>"
      ],
      "text/plain": [
       "   X..1.year  X0.years   X1.year  X10..years  X2.years  X3.years  X4.years  \\\n",
       "0   0.749112  1.357469  0.724833    0.658781  0.729314  0.784794  0.680845   \n",
       "1   0.501202 -0.043874  0.544941    0.418886  0.591251  0.562336  0.531292   \n",
       "2  -0.884489 -1.176977 -0.819953   -0.607735 -0.960172 -0.918115 -0.803922   \n",
       "3  -0.365825 -0.136618 -0.449821   -0.469932 -0.360393 -0.429015 -0.408215   \n",
       "\n",
       "   X5.years  X6.years  X7.years    ...      pc_x_28   pc_x_29   pc_x_30  \\\n",
       "0  0.676110  0.562808  0.551673    ...    -0.042882  0.129459 -0.039552   \n",
       "1  0.505360  0.428898  0.300153    ...     0.067125  0.473298 -0.034696   \n",
       "2 -0.806388 -0.756780 -0.649008    ...     0.019299 -0.371420  0.201225   \n",
       "3 -0.375082 -0.234925 -0.202817    ...    -0.043541 -0.231337 -0.126977   \n",
       "\n",
       "    pc_x_31   pc_x_32   pc_x_33   pc_x_34   pc_x_35   pc_x_36   pc_x_37  \n",
       "0  0.157678  0.440570 -0.005026 -0.332170 -0.010597 -0.057949  0.164371  \n",
       "1 -0.685047 -0.924553  0.146547  0.435691  0.167585  0.037649  0.023720  \n",
       "2  0.300085  0.400710 -0.113993 -0.172495 -0.103675 -0.107810 -0.262234  \n",
       "3  0.227283  0.083273 -0.027529  0.068974 -0.053313  0.128110  0.074143  \n",
       "\n",
       "[4 rows x 106 columns]"
      ]
     },
     "execution_count": 26,
     "metadata": {},
     "output_type": "execute_result"
    }
   ],
   "source": [
    "pd.DataFrame(logreg.coef_, columns=x_cols)\n"
   ]
  },
  {
   "cell_type": "code",
   "execution_count": 28,
   "metadata": {
    "collapsed": false,
    "deletable": true,
    "editable": true
   },
   "outputs": [
    {
     "name": "stderr",
     "output_type": "stream",
     "text": [
      "/Users/mingcao/anaconda/lib/python3.6/site-packages/sklearn/linear_model/sag.py:326: ConvergenceWarning: The max_iter was reached which means the coef_ did not converge\n",
      "  \"the coef_ did not converge\", ConvergenceWarning)\n"
     ]
    },
    {
     "name": "stdout",
     "output_type": "stream",
     "text": [
      "Accuracy of logistic regression classifier on test set: 0.98\n"
     ]
    }
   ],
   "source": [
    "# logistic regression model via L1 regularization - for feature selection over large number of features\n",
    "logregL1 = LogisticRegression(penalty = 'l1', max_iter = 1000, multi_class='multinomial', solver = 'saga').fit(X_train, y_trainc)\n",
    "y_predL1 = logregL1.predict(test_x)\n",
    "print('Accuracy of logistic regression classifier on test set: {:.2f}'.format(logregL1.score(test_x, y_testc)))\n"
   ]
  },
  {
   "cell_type": "code",
   "execution_count": 29,
   "metadata": {
    "collapsed": false,
    "deletable": true,
    "editable": true
   },
   "outputs": [
    {
     "data": {
      "text/plain": [
       "(array([0.98954821, 0.99680822, 0.66448851, 0.7469551 ]),\n",
       " array([0.99158755, 0.99840647, 0.66032244, 0.7212568 ]),\n",
       " array([0.99056683, 0.9976067 , 0.66239892, 0.73388105]),\n",
       " array([ 29599, 101661,   4466,   5697]))"
      ]
     },
     "execution_count": 29,
     "metadata": {},
     "output_type": "execute_result"
    }
   ],
   "source": [
    "precision_recall_fscore_support(y_testc, y_predL1)"
   ]
  },
  {
   "cell_type": "code",
   "execution_count": 30,
   "metadata": {
    "collapsed": false,
    "deletable": true,
    "editable": true
   },
   "outputs": [
    {
     "name": "stderr",
     "output_type": "stream",
     "text": [
      "/Users/mingcao/anaconda/lib/python3.6/site-packages/sklearn/linear_model/sag.py:326: ConvergenceWarning: The max_iter was reached which means the coef_ did not converge\n",
      "  \"the coef_ did not converge\", ConvergenceWarning)\n"
     ]
    },
    {
     "name": "stdout",
     "output_type": "stream",
     "text": [
      "Accuracy of logistic regression classifier on test set: 0.98\n"
     ]
    }
   ],
   "source": [
    "# logistic regression model via L2 regularization\n",
    "logregL2 = LogisticRegression(penalty = 'l2', max_iter = 1000, multi_class='multinomial', solver = 'sag').fit(X_train, y_trainc)\n",
    "y_predL2 = logregL2.predict(test_x)\n",
    "print('Accuracy of logistic regression classifier on test set: {:.2f}'.format(logregL2.score(test_x, y_testc)))\n"
   ]
  },
  {
   "cell_type": "code",
   "execution_count": 31,
   "metadata": {
    "collapsed": false,
    "deletable": true,
    "editable": true
   },
   "outputs": [
    {
     "data": {
      "text/plain": [
       "(array([0.98984891, 0.99682795, 0.66418751, 0.74632286]),\n",
       " array([0.99162134, 0.99845565, 0.65987461, 0.72143233]),\n",
       " array([0.99073433, 0.99764114, 0.66202404, 0.73366655]),\n",
       " array([ 29599, 101661,   4466,   5697]))"
      ]
     },
     "execution_count": 31,
     "metadata": {},
     "output_type": "execute_result"
    }
   ],
   "source": [
    "precision_recall_fscore_support(y_testc, y_predL2)"
   ]
  },
  {
   "cell_type": "code",
   "execution_count": null,
   "metadata": {
    "collapsed": false,
    "deletable": true,
    "editable": true
   },
   "outputs": [],
   "source": [
    "clf_linear = svm.SVC(probability=True, C=10, kernel='linear').fit(X_train, y_trainc) "
   ]
  },
  {
   "cell_type": "code",
   "execution_count": null,
   "metadata": {
    "collapsed": false,
    "deletable": true,
    "editable": true
   },
   "outputs": [],
   "source": [
    "clf_rbf = svm.SVC(decision_function_shape='ovo', cache_size = 3000, max_iter = 10, kernel='rbf').fit(X_train, y_trainc) "
   ]
  },
  {
   "cell_type": "code",
   "execution_count": null,
   "metadata": {
    "collapsed": true,
    "deletable": true,
    "editable": true
   },
   "outputs": [],
   "source": [
    "clf_poly = svm.SVC(decision_function_shape='ovo', cache_size = 3000, max_iter = 10, degree=3, kernel='poly').fit(X_train, y_trainc) "
   ]
  }
 ],
 "metadata": {
  "kernelspec": {
   "display_name": "Python 3",
   "language": "python",
   "name": "python3"
  },
  "language_info": {
   "codemirror_mode": {
    "name": "ipython",
    "version": 3
   },
   "file_extension": ".py",
   "mimetype": "text/x-python",
   "name": "python",
   "nbconvert_exporter": "python",
   "pygments_lexer": "ipython3",
   "version": "3.6.1"
  }
 },
 "nbformat": 4,
 "nbformat_minor": 2
}
